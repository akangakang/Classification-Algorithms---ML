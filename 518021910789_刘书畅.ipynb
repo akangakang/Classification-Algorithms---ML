{
 "cells": [
  {
   "cell_type": "markdown",
   "metadata": {
    "collapsed": true,
    "pycharm": {
     "name": "#%% md\n"
    }
   },
   "source": [
    "# Machine Learning Project1\n",
    "\n",
    "刘书畅 518021910789\n",
    "\n",
    "---\n",
    "\n",
    "## 1. 概述\n",
    "\n",
    "* 本项目实现两种分类算法：\n",
    "    * Naïve Bayesian\n",
    "    * Logistic Regression\n",
    "* 并使用sklearn Python package实现SVM\n",
    "* 比较三种分类方法的表现\n",
    "\n",
    "## 2. 数据导入及划分\n",
    "本项目使用如下的包："
   ]
  },
  {
   "cell_type": "code",
   "execution_count": 64,
   "outputs": [],
   "source": [
    "import numpy as np\n",
    "import pandas as pd\n",
    "import matplotlib.pyplot as plt\n",
    "import math\n",
    "import time\n",
    "import random\n",
    "from sklearn.svm import SVC"
   ],
   "metadata": {
    "collapsed": false,
    "pycharm": {
     "name": "#%%\n"
    }
   }
  },
  {
   "cell_type": "markdown",
   "source": [
    "使用的数据集为Mobile Price Classification.\n",
    "\n",
    "下载地址： https://www.kaggle.com/iabhishekofficial/mobile-price-classification?select=train.csv\n",
    "\n",
    "导入数据：\n",
    "(数据和本文件应置于相同文件夹下)"
   ],
   "metadata": {
    "collapsed": false
   }
  },
  {
   "cell_type": "code",
   "execution_count": 65,
   "outputs": [
    {
     "data": {
      "text/plain": "(2000, 21)"
     },
     "execution_count": 65,
     "metadata": {},
     "output_type": "execute_result"
    }
   ],
   "source": [
    "data=pd.read_csv(\"train.csv\")\n",
    "data.shape"
   ],
   "metadata": {
    "collapsed": false,
    "pycharm": {
     "name": "#%%\n"
    }
   }
  },
  {
   "cell_type": "markdown",
   "source": [
    "数据共有2000行, 21列"
   ],
   "metadata": {
    "collapsed": false
   }
  },
  {
   "cell_type": "code",
   "execution_count": 66,
   "outputs": [
    {
     "data": {
      "text/plain": "Index(['battery_power', 'blue', 'clock_speed', 'dual_sim', 'fc', 'four_g',\n       'int_memory', 'm_dep', 'mobile_wt', 'n_cores', 'pc', 'px_height',\n       'px_width', 'ram', 'sc_h', 'sc_w', 'talk_time', 'three_g',\n       'touch_screen', 'wifi', 'price_range'],\n      dtype='object')"
     },
     "execution_count": 66,
     "metadata": {},
     "output_type": "execute_result"
    }
   ],
   "source": [
    "data.columns"
   ],
   "metadata": {
    "collapsed": false,
    "pycharm": {
     "name": "#%%\n"
    }
   }
  },
  {
   "cell_type": "markdown",
   "source": [
    "* 本项目根据前20项数据特征, 预测第21项数据\"price_range\"\n",
    "* \"price_range\"被分为两类：low(0,1) , high(2,3)\n",
    "* 将‘train.csv’ 以0.8:0.1:0.1的比例随机分为‘train’ , ‘valid’ 和 ‘test’ 三份"
   ],
   "metadata": {
    "collapsed": false,
    "pycharm": {
     "name": "#%% md\n"
    }
   }
  },
  {
   "cell_type": "code",
   "source": [
    "train_data,valid_data,test_data = np.split(data.sample(frac=1), [int(.8*len(data)), int(.9*len(data))])"
   ],
   "metadata": {
    "collapsed": false,
    "pycharm": {
     "name": "#%%\n"
    }
   },
   "execution_count": 67,
   "outputs": []
  },
  {
   "cell_type": "markdown",
   "source": [
    "* 使用train_time记录三种方法的训练时间\n",
    "* 使用test_result记录三种方法的分类结果分数\n",
    "* 使用test_time记录三种方法的分类时间"
   ],
   "metadata": {
    "collapsed": false,
    "pycharm": {
     "name": "#%% md\n"
    }
   }
  },
  {
   "cell_type": "code",
   "execution_count": 68,
   "outputs": [],
   "source": [
    "train_time=[0,0,0]\n",
    "test_result=np.zeros((3,3))\n",
    "test_time=np.zeros((3,3))"
   ],
   "metadata": {
    "collapsed": false,
    "pycharm": {
     "name": "#%%\n"
    }
   }
  },
  {
   "cell_type": "markdown",
   "source": [
    "\n",
    "## 2. Naïve Bayesian\n",
    "\n",
    "### 1. 预处理\n",
    "数据预处理包括:\n",
    "* Convert labels into to two classes: low (0, 1) and high (2, 3)\n",
    "*  data normalization\n",
    "* discretize continuous attributes into intervals\n",
    "* split large number into ranges [0,r)\n",
    "\n",
    "所以定义如下类DataNB:"
   ],
   "metadata": {
    "collapsed": false
   }
  },
  {
   "cell_type": "code",
   "execution_count": 69,
   "outputs": [],
   "source": [
    "class DataNB:\n",
    "\n",
    "    def __init__(self,string,data,r):\n",
    "        self.name=string\n",
    "\n",
    "        self.x_data=data[:,:-1]\n",
    "        self.y_data=data[:,-1,np.newaxis]\n",
    "\n",
    "        self.row,self.x_col=np.mat(self.x_data).shape\n",
    "\n",
    "        low=np.min(self.x_data,axis=0)\n",
    "        high=np.max(self.x_data,axis=0)\n",
    "\n",
    "\n",
    "        for i in range(self.row):\n",
    "            self.y_data[i]=math.floor(self.y_data[i]/2)\n",
    "            for j in range(self.x_col):\n",
    "                self.x_data[i,j]=math.floor((self.x_data[i,j]-low[j])*(r-1)/(high[j]-low[j]))"
   ],
   "metadata": {
    "collapsed": false,
    "pycharm": {
     "name": "#%%\n"
    }
   }
  },
  {
   "cell_type": "markdown",
   "source": [
    "### 2. 训练\n",
    "\n",
    "#### 1. 预处理数据\n",
    "设置数据范围为[0,r)"
   ],
   "metadata": {
    "collapsed": false
   }
  },
  {
   "cell_type": "code",
   "execution_count": 70,
   "outputs": [],
   "source": [
    "r=10\n",
    "train =DataNB(\"train\",train_data.values,r)"
   ],
   "metadata": {
    "collapsed": false,
    "pycharm": {
     "name": "#%%\n"
    }
   }
  },
  {
   "cell_type": "markdown",
   "source": [
    "#### 2. 训练\n",
    "* 贝叶斯公式：\n",
    "$$P(C_j|x_1,x_2,...,x_d) = \\frac {P(x_1,x_2,...,x_d|C_j)P(C_j)}{P(x_1,x_2,...,x_d)}$$\n",
    "* 因为分类时分母相同,于是只需要计算:\n",
    "$$ arg{max}_{c_k}p(x_1,x_2,...,x_d|C_j)P(C_j) $$\n",
    "* 因为条件独立:\n",
    "$$ p(x_1,x_2,...,x_d|C_j)= \\prod_{i=1}^dp(x_i|C_j) $$\n",
    "* 代码实现中用变量pResult记录price_range特征low和high的出现概率 $$p(C_i)$$\n",
    "* 用变量pAttribute(i,m,j)记录$$ p(x_i=m|C_j) $$\n"
   ],
   "metadata": {
    "collapsed": false
   }
  },
  {
   "cell_type": "code",
   "execution_count": 71,
   "outputs": [
    {
     "name": "stdout",
     "output_type": "stream",
     "text": [
      "training begin\n",
      "training time:\n",
      "0.09447407722473145\n"
     ]
    }
   ],
   "source": [
    "def train_nb(train):\n",
    "    print(\"training begin\")\n",
    "    begin=time.time()\n",
    "    pResult=[0,0]\n",
    "    pAttribute=np.zeros(shape=( train.x_col, r,2))\n",
    "    for i in range(train.row):\n",
    "        pResult[int(train.y_data[i])]+=1\n",
    "        for j in range(train.x_col):\n",
    "            pAttribute[j][int(train.x_data[i,j])][int(train.y_data[i])]+=1\n",
    "\n",
    "    pResult[0]=pResult[0]*(1/train.row)\n",
    "    pResult[1]=pResult[1]*(1/train.row)\n",
    "    pAttribute=pAttribute/train.row\n",
    "    stop=time.time()-begin\n",
    "    print(\"training time:\")\n",
    "    print(stop)\n",
    "\n",
    "    return [stop,pResult,pAttribute]\n",
    "\n",
    "train_time[0],pResult,pAttribute=train_nb(train)"
   ],
   "metadata": {
    "collapsed": false,
    "pycharm": {
     "name": "#%%\n"
    }
   }
  },
  {
   "cell_type": "markdown",
   "source": [
    "#### 3. 测试\n",
    "使用valid_data,test_data数据进行测试"
   ],
   "metadata": {
    "collapsed": false
   }
  },
  {
   "cell_type": "code",
   "source": [
    "valid=DataNB(\"valid\",valid_data.values,r)\n",
    "test=DataNB(\"test\",test_data.values,r)"
   ],
   "metadata": {
    "collapsed": false,
    "pycharm": {
     "name": "#%%\n"
    }
   },
   "execution_count": 72,
   "outputs": []
  },
  {
   "cell_type": "markdown",
   "source": [
    "$$ C_{NB} = arg{max}_{c_k}p(x_1,x_2,...,x_d|C_j)P(C_j) $$"
   ],
   "metadata": {
    "collapsed": false,
    "pycharm": {
     "name": "#%% md\n"
    }
   }
  },
  {
   "cell_type": "code",
   "execution_count": 73,
   "outputs": [
    {
     "name": "stdout",
     "output_type": "stream",
     "text": [
      "\n",
      "testing:\n",
      "train\n",
      "time:\n",
      "0.16887116432189941\n",
      "score:\n",
      "0.905625\n",
      "\n",
      "testing:\n",
      "valid\n",
      "time:\n",
      "0.010883092880249023\n",
      "score:\n",
      "0.885\n",
      "\n",
      "testing:\n",
      "test\n",
      "time:\n",
      "0.012025833129882812\n",
      "score:\n",
      "0.865\n"
     ]
    }
   ],
   "source": [
    "def test_nb(data,pResult,pAttribute):\n",
    "        print(\"\")\n",
    "        print(\"testing:\")\n",
    "        print(data.name)\n",
    "        begin=time.time()\n",
    "        score=0\n",
    "\n",
    "        for i in range(data.row):\n",
    "            probability=[0,0]\n",
    "            for j in range(2):\n",
    "                probability[j]=pResult[j]\n",
    "                for k in range(data.x_col):\n",
    "                    probability[j]*=pAttribute[k][int(data.x_data[i,k])][j]\n",
    "\n",
    "            if probability[1]>probability[0] and data.y_data[i]==1:\n",
    "                score+=1\n",
    "            elif probability[1]<probability[0] and data.y_data[i]==0:\n",
    "                score+=1\n",
    "        score/=data.row\n",
    "        stop=time.time()-begin\n",
    "        print(\"time:\")\n",
    "        print(stop)\n",
    "        print(\"score:\")\n",
    "        print(score)\n",
    "\n",
    "        return [stop,score]\n",
    "\n",
    "test_time[0,0],test_result[0,0]=test_nb(train,pResult,pAttribute)\n",
    "test_time[0,1],test_result[0,1]=test_nb(valid,pResult,pAttribute)\n",
    "test_time[0,2],test_result[0,2]=test_nb(test,pResult,pAttribute)"
   ],
   "metadata": {
    "collapsed": false,
    "pycharm": {
     "name": "#%%\n"
    }
   }
  },
  {
   "cell_type": "markdown",
   "source": [
    "## 2. Logistic Regression\n",
    "\n",
    "### 1. 预处理数据\n",
    "* 用x_data存储特征值,y_data存储price_range的值\n",
    "* 将y_data的值归一到（0,1）\n",
    "* 将x_data的值归一到（0,1）\n",
    "* 给样本添加偏置值\n"
   ],
   "metadata": {
    "collapsed": false
   }
  },
  {
   "cell_type": "code",
   "source": [
    "class DataLR:\n",
    "    #数据预处理\n",
    "    def __init__(self,string,data):\n",
    "        self.name=string\n",
    "\n",
    "        self.x_data=data[:,:-1]\n",
    "        self.y_data=data[:,-1,np.newaxis]\n",
    "\n",
    "        self.row,self.x_col=np.mat(self.x_data).shape\n",
    "\n",
    "        low=np.min(self.x_data,axis=0)\n",
    "        high=np.max(self.x_data,axis=0)\n",
    "\n",
    "\n",
    "\n",
    "        for i in range(self.row):\n",
    "            self.y_data[i]=math.floor(self.y_data[i]/2)\n",
    "            for j in range(self.x_col):\n",
    "                 self.x_data[i,j]=( self.x_data[i,j]-low[j])/(high[j]-low[j])\n",
    "\n",
    "        # 添加偏置值\n",
    "        self.x_data = np.concatenate((np.ones((self.row,1)),self.x_data),axis=1)\n",
    "\n",
    "train =DataLR(\"train\",train_data.values)\n",
    "valid= DataLR(\"valid\",valid_data.values)"
   ],
   "metadata": {
    "collapsed": false,
    "pycharm": {
     "name": "#%%\n"
    }
   },
   "execution_count": 74,
   "outputs": []
  },
  {
   "cell_type": "markdown",
   "source": [
    "### 2. 训练\n",
    "1. sigmoid函数:\n",
    "   $$ sigmoid(x)=\\frac {1}{1+e^{-x}} $$\n",
    "2. cost函数,计算代价值:\n",
    "3. 梯度下降\n",
    "4. 训练时用valid数据做验证,当valid和train的cost都几乎不再改变时就认为已收敛"
   ],
   "metadata": {
    "collapsed": false
   }
  },
  {
   "cell_type": "code",
   "execution_count": 75,
   "outputs": [
    {
     "name": "stdout",
     "output_type": "stream",
     "text": [
      "training begin\n",
      "training time:\n",
      "40.35889291763306\n"
     ]
    }
   ],
   "source": [
    "def sigmoid(x):\n",
    "    return 1.0/(1+np.exp(-x))\n",
    "\n",
    "def cost(x_mat, y_mat, ws):\n",
    "    left = np.multiply(y_mat, np.log(sigmoid(x_mat*ws)))\n",
    "    right = np.multiply(1 - y_mat, np.log(1 - sigmoid(x_mat*ws)))\n",
    "    return np.sum(left + right) / -(len(x_mat))\n",
    "\n",
    "def train_lr(train,valid,accuracy = 0.000001):\n",
    "\n",
    "    x_mat = np.mat(train.x_data)\n",
    "    y_mat = np.mat(train.y_data)\n",
    "\n",
    "    valid_x_mat =np.mat(valid.x_data)\n",
    "    valid_y_mat=np.mat(valid.y_data)\n",
    "\n",
    "    lr = 0.05\n",
    "\n",
    "    # 用于画出代价函数的收敛曲线\n",
    "    train_cost_list = []\n",
    "    valid_cost_list = []\n",
    "\n",
    "    # 计算数据行列数\n",
    "    # 行代表数据个数，列代表权值个数\n",
    "    m,n = np.shape(x_mat)\n",
    "    # 初始化权值\n",
    "    print(\"training begin\")\n",
    "    begin=time.time()\n",
    "    ws=np.mat(np.zeros((n,1)))\n",
    "    for j in range(n):\n",
    "        ws[j]=random.uniform(-0.01,0.01)\n",
    "    i=0\n",
    "\n",
    "    #valid 和 train 的都几乎不再改变就行了 ( |new-old|<accuracy)\n",
    "    while True:\n",
    "\n",
    "        train_old = cost(x_mat, y_mat,ws)\n",
    "        valid_old = cost(valid_x_mat,valid_y_mat,ws)\n",
    "\n",
    "        # xMat和weights矩阵相乘\n",
    "        h = sigmoid(x_mat*ws)\n",
    "        # 计算误差\n",
    "        ws_grad = x_mat.T*(h - y_mat)/m\n",
    "        ws = ws - lr*ws_grad\n",
    "\n",
    "        train_new = cost(x_mat, y_mat,ws)\n",
    "        valid_new = cost(valid_x_mat,valid_y_mat,ws)\n",
    "\n",
    "        if i % 50 == 0:\n",
    "            train_cost_list.append(train_new)\n",
    "            valid_cost_list.append(valid_new)\n",
    "        i+=1\n",
    "\n",
    "        if math.fabs(train_new - train_old) < accuracy and math.fabs(valid_new - valid_old) < accuracy:\n",
    "            break\n",
    "\n",
    "    stop=time.time()-begin\n",
    "    print(\"training time:\")\n",
    "    print(stop)\n",
    "    return stop,ws,train_cost_list,valid_cost_list\n",
    "\n",
    "train_time[1],ws,train_cost_list,valid_cost_list =train_lr(train, valid,0.000001)"
   ],
   "metadata": {
    "collapsed": false,
    "pycharm": {
     "name": "#%%\n"
    }
   }
  },
  {
   "cell_type": "markdown",
   "source": [
    "画出代价函数的收敛曲线"
   ],
   "metadata": {
    "collapsed": false
   }
  },
  {
   "cell_type": "code",
   "execution_count": 76,
   "outputs": [
    {
     "data": {
      "text/plain": "<Figure size 432x288 with 1 Axes>",
      "image/png": "[encoded data removed]"
     },
     "metadata": {
      "needs_background": "light"
     },
     "output_type": "display_data"
    }
   ],
   "source": [
    "x = np.linspace(0,len(train_cost_list),len(train_cost_list))\n",
    "plt.plot(x, train_cost_list,label='train', c='r')\n",
    "plt.plot(x,valid_cost_list,label='valid',c='b')\n",
    "plt.title(' Naïve Bayesian Train')\n",
    "plt.xlabel('Epochs')\n",
    "plt.ylabel('Cost')\n",
    "plt.show()"
   ],
   "metadata": {
    "collapsed": false,
    "pycharm": {
     "name": "#%%\n"
    }
   }
  },
  {
   "cell_type": "markdown",
   "source": [
    "### 3. 测试\n",
    "#### 1.数据预处理"
   ],
   "metadata": {
    "collapsed": false
   }
  },
  {
   "cell_type": "code",
   "execution_count": 77,
   "outputs": [],
   "source": [
    "valid =DataLR(\"valid\",valid_data.values)\n",
    "test =DataLR(\"test\",test_data.values)\n"
   ],
   "metadata": {
    "collapsed": false,
    "pycharm": {
     "name": "#%%\n"
    }
   }
  },
  {
   "cell_type": "markdown",
   "source": [
    "#### 2. 测试\n"
   ],
   "metadata": {
    "collapsed": false,
    "pycharm": {
     "name": "#%% md\n"
    }
   }
  },
  {
   "cell_type": "code",
   "source": [
    "def test_lr(data,ws):\n",
    "    print(\"\")\n",
    "    print(data.name)\n",
    "    xMat = np.mat(data.x_data)\n",
    "    ws = np.mat(ws)\n",
    "    begin=time.time()\n",
    "    score=0\n",
    "    final=xMat*ws\n",
    "    m,n=final.shape\n",
    "    for i in range(m):\n",
    "        if final[i]>0 and data.y_data[i]==1:\n",
    "            score+=1\n",
    "        elif final[i]<=0 and data.y_data[i]==0:\n",
    "            score+=1\n",
    "    score/=m\n",
    "    stop=time.time()-begin\n",
    "    print(\"time:\")\n",
    "    print(stop)\n",
    "    print(\"score:\")\n",
    "    print(score)\n",
    "\n",
    "    return stop,score\n",
    "\n",
    "test_time[1,0],test_result[1,0]=test_lr(train,ws)\n",
    "test_time[1,1],test_result[1,1]=test_lr(valid,ws)\n",
    "test_time[1,2],test_result[1,2]=test_lr(test,ws)"
   ],
   "metadata": {
    "collapsed": false,
    "pycharm": {
     "name": "#%%\n"
    }
   },
   "execution_count": 78,
   "outputs": [
    {
     "name": "stdout",
     "output_type": "stream",
     "text": [
      "\n",
      "train\n",
      "time:\n",
      "0.05584883689880371\n",
      "score:\n",
      "0.983125\n",
      "\n",
      "valid\n",
      "time:\n",
      "0.00897669792175293\n",
      "score:\n",
      "0.995\n",
      "\n",
      "test\n",
      "time:\n",
      "0.007213592529296875\n",
      "score:\n",
      "0.945\n"
     ]
    }
   ]
  },
  {
   "cell_type": "markdown",
   "source": [
    "## 3. SVM\n",
    "\n",
    "### 1. 数据预处理"
   ],
   "metadata": {
    "collapsed": false
   }
  },
  {
   "cell_type": "code",
   "execution_count": 79,
   "outputs": [],
   "source": [
    "class DataSVM:\n",
    "    def __init__(self,string,data):\n",
    "        self.name=string\n",
    "\n",
    "        self.x_data=data[:,:-1]\n",
    "        self.y_data=data[:,-1,np.newaxis]\n",
    "\n",
    "        self.row,self.x_col=np.mat(self.x_data).shape\n",
    "\n",
    "        # self.data=data.reset_index()\n",
    "        # self.row,self.col=self.data.shape\n",
    "        # self.value=self.data['price_range']\n",
    "        for i in range(self.row):\n",
    "            self.y_data[i]=math.floor(self.y_data[i]/2)\n",
    "\n",
    "\n",
    "#数据预处理\n",
    "train=DataSVM(\"train\",train_data.values)\n",
    "valid=DataSVM(\"valid\",valid_data.values)\n",
    "test=DataSVM(\"test\",test_data.values)"
   ],
   "metadata": {
    "collapsed": false,
    "pycharm": {
     "name": "#%%\n"
    }
   }
  },
  {
   "cell_type": "markdown",
   "source": [
    "### 2. 训练"
   ],
   "metadata": {
    "collapsed": false,
    "pycharm": {
     "name": "#%% md\n"
    }
   }
  },
  {
   "cell_type": "code",
   "execution_count": 80,
   "outputs": [
    {
     "name": "stdout",
     "output_type": "stream",
     "text": [
      "training begin\n",
      "training time:\n",
      "0.03723430633544922\n"
     ]
    },
    {
     "name": "stderr",
     "output_type": "stream",
     "text": [
      "c:\\users\\97537\\pycharmprojects\\pythonproject\\venv\\lib\\site-packages\\sklearn\\utils\\validation.py:72: DataConversionWarning: A column-vector y was passed when a 1d array was expected. Please change the shape of y to (n_samples, ), for example using ravel().\n",
      "  return f(**kwargs)\n"
     ]
    }
   ],
   "source": [
    "#用train数据训练\n",
    "def train_svm(train):\n",
    "    print(\"training begin\")\n",
    "    begin=time.time()\n",
    "    clf=SVC()\n",
    "    clf.fit(train.x_data,train.y_data)\n",
    "    stop=time.time()-begin\n",
    "    print(\"training time:\")\n",
    "    print(stop)\n",
    "    return stop,clf\n",
    "\n",
    "train_time[2],clf=train_svm(train)"
   ],
   "metadata": {
    "collapsed": false,
    "pycharm": {
     "name": "#%%\n"
    }
   }
  },
  {
   "cell_type": "markdown",
   "source": [
    "### 3.测试"
   ],
   "metadata": {
    "collapsed": false,
    "pycharm": {
     "name": "#%% md\n"
    }
   }
  },
  {
   "cell_type": "code",
   "execution_count": 81,
   "outputs": [
    {
     "name": "stdout",
     "output_type": "stream",
     "text": [
      "\n",
      "testing:\n",
      "train\n",
      "time:\n",
      "0.022938966751098633\n",
      "score:\n",
      "0.98375\n",
      "\n",
      "testing:\n",
      "valid\n",
      "time:\n",
      "0.004987001419067383\n",
      "score:\n",
      "0.995\n",
      "\n",
      "testing:\n",
      "test\n",
      "time:\n",
      "0.003981590270996094\n",
      "score:\n",
      "0.985\n"
     ]
    }
   ],
   "source": [
    "#测试\n",
    "def test_svm(self,clf):\n",
    "    print(\"\")\n",
    "    print(\"testing:\")\n",
    "    print(self.name)\n",
    "    begin=time.time()\n",
    "    score=clf.score(self.x_data,self.y_data)\n",
    "    stop=time.time()-begin\n",
    "    print(\"time:\")\n",
    "    print(stop)\n",
    "    print(\"score:\")\n",
    "    print(score)\n",
    "    return stop,score\n",
    "#测试\n",
    "test_time[2,0],test_result[2,0]=test_svm(train,clf)\n",
    "test_time[2,1],test_result[2,1]=test_svm(valid,clf)\n",
    "test_time[2,2],test_result[2,2]=test_svm(test,clf)"
   ],
   "metadata": {
    "collapsed": false,
    "pycharm": {
     "name": "#%%\n"
    }
   }
  },
  {
   "cell_type": "markdown",
   "source": [
    "## 4.结果分析\n",
    "### 1.训练时间\n",
    "#### 1. 对比三种方法的训练时间"
   ],
   "metadata": {
    "collapsed": false
   }
  },
  {
   "cell_type": "code",
   "execution_count": 82,
   "outputs": [
    {
     "data": {
      "text/plain": "<Figure size 432x288 with 1 Axes>",
      "image/png": "[encoded data removed]"
     },
     "metadata": {
      "needs_background": "light"
     },
     "output_type": "display_data"
    },
    {
     "data": {
      "text/plain": "<pandas.io.formats.style.Styler at 0x4eae460>",
      "text/html": "<style  type=\"text/css\" >\n</style><table id=\"T_f90b7807_2368_11eb_b867_40a3ccb69620\" ><thead>    <tr>        <th class=\"blank level0\" ></th>        <th class=\"col_heading level0 col0\" >Naïve Bayesian</th>        <th class=\"col_heading level0 col1\" >Logistic Regression</th>        <th class=\"col_heading level0 col2\" >SVM</th>    </tr></thead><tbody>\n                <tr>\n                        <th id=\"T_f90b7807_2368_11eb_b867_40a3ccb69620level0_row0\" class=\"row_heading level0 row0\" >0</th>\n                        <td id=\"T_f90b7807_2368_11eb_b867_40a3ccb69620row0_col0\" class=\"data row0 col0\" >0.094474</td>\n                        <td id=\"T_f90b7807_2368_11eb_b867_40a3ccb69620row0_col1\" class=\"data row0 col1\" >40.358893</td>\n                        <td id=\"T_f90b7807_2368_11eb_b867_40a3ccb69620row0_col2\" class=\"data row0 col2\" >0.037234</td>\n            </tr>\n    </tbody></table>"
     },
     "execution_count": 82,
     "metadata": {},
     "output_type": "execute_result"
    }
   ],
   "source": [
    "plt.title(' Train Time ')\n",
    "plt.xlabel('Method')\n",
    "plt.ylabel('Time')\n",
    "name_list = ['Naïve Bayesian(s)','Logistic Regression(s)','SVM(s)']\n",
    "plt.bar(range(len(train_time)), train_time,fc='salmon',tick_label=name_list)\n",
    "\n",
    "plt.show()\n",
    "\n",
    "\n",
    "df = pd.DataFrame(np.mat(train_time),columns=['Naïve Bayesian','Logistic Regression','SVM'])\n",
    "df.style"
   ],
   "metadata": {
    "collapsed": false,
    "pycharm": {
     "name": "#%%\n"
    }
   }
  },
  {
   "cell_type": "markdown",
   "source": [
    "#### 2. Naïve Bayesian和SVM的训练时间对比图\n",
    "由于Logistic Regression的训练时间远长于其他两种分类算法,柱状图中难以观察到其他两种分类方法是训练时间,\n",
    "于是单独绘制"
   ],
   "metadata": {
    "collapsed": false
   }
  },
  {
   "cell_type": "code",
   "execution_count": 83,
   "outputs": [
    {
     "data": {
      "text/plain": "<Figure size 432x288 with 1 Axes>",
      "image/png": "[encoded data removed]"
     },
     "metadata": {
      "needs_background": "light"
     },
     "output_type": "display_data"
    }
   ],
   "source": [
    "plt.title(' Train Time ')\n",
    "plt.xlabel('Method')\n",
    "plt.ylabel('Time')\n",
    "name_list = ['Naïve Bayesian','SVM']\n",
    "train_time1=[train_time[0],train_time[2]]\n",
    "plt.bar(range(len(train_time1)), train_time1,fc='salmon',tick_label=name_list)\n",
    "plt.show()"
   ],
   "metadata": {
    "collapsed": false,
    "pycharm": {
     "name": "#%%\n"
    }
   }
  },
  {
   "cell_type": "markdown",
   "source": [
    "#### 3. 总结\n",
    "* 训练时间:\n",
    "$$ Logistic Regression> Naïve Bayesian > SVM $$\n",
    "* Logistic Regression的训练时间远长于其他两种分类算法\n",
    "* Logistic Regression的训练时间和精度取决于判定收敛停止循环的精度,精度越高分类准确率越高,相应训练时间也会增长\n",
    "*  Naïve Bayesian ,SVM训练时间较为接近, Naïve Bayesian 略长于SVM\n",
    "\n",
    "### 2. 测试分数\n",
    "#### 1. 柱状图"
   ],
   "metadata": {
    "collapsed": false
   }
  },
  {
   "cell_type": "code",
   "execution_count": 84,
   "outputs": [
    {
     "data": {
      "text/plain": "<Figure size 432x288 with 1 Axes>",
      "image/png": "[encoded data removed]"
     },
     "metadata": {
      "needs_background": "light"
     },
     "output_type": "display_data"
    }
   ],
   "source": [
    "name_list = ['train','valid','test']\n",
    "x =list(range(len(test_result[0])))\n",
    "total_width, n = 0.8, 3\n",
    "width = total_width / n\n",
    "plt.title(' Test Score ')\n",
    "plt.xlabel('Method')\n",
    "plt.ylabel('Score')\n",
    "plt.bar(x, test_result[0], width=width, label='Naïve Bayesian',fc = 'gold')\n",
    "for i in range(len(x)):\n",
    "    x[i] = x[i] + width\n",
    "plt.bar(x, test_result[1], width=width, label='Logistic Regression',tick_label = name_list,fc = 'salmon')\n",
    "for i in range(len(x)):\n",
    "    x[i] = x[i] + width\n",
    "plt.bar(x, test_result[2], width=width, label='SVM',tick_label = name_list,fc = 'skyblue')\n",
    "plt.legend()\n",
    "plt.show()"
   ],
   "metadata": {
    "collapsed": false,
    "pycharm": {
     "name": "#%%\n"
    }
   }
  },
  {
   "cell_type": "markdown",
   "source": [
    "#### 2. 表格\n",
    "第0行代表Naïve Bayesian,第1行代表Logistic Regression,第1行代表SVM"
   ],
   "metadata": {
    "collapsed": false,
    "pycharm": {
     "name": "#%% md\n"
    }
   }
  },
  {
   "cell_type": "code",
   "execution_count": 85,
   "outputs": [
    {
     "data": {
      "text/plain": "<pandas.io.formats.style.Styler at 0x4f42910>",
      "text/html": "<style  type=\"text/css\" >\n</style><table id=\"T_f953f5e1_2368_11eb_a4bf_40a3ccb69620\" ><thead>    <tr>        <th class=\"blank level0\" ></th>        <th class=\"col_heading level0 col0\" >train</th>        <th class=\"col_heading level0 col1\" >valid</th>        <th class=\"col_heading level0 col2\" >test</th>    </tr></thead><tbody>\n                <tr>\n                        <th id=\"T_f953f5e1_2368_11eb_a4bf_40a3ccb69620level0_row0\" class=\"row_heading level0 row0\" >0</th>\n                        <td id=\"T_f953f5e1_2368_11eb_a4bf_40a3ccb69620row0_col0\" class=\"data row0 col0\" >0.905625</td>\n                        <td id=\"T_f953f5e1_2368_11eb_a4bf_40a3ccb69620row0_col1\" class=\"data row0 col1\" >0.885000</td>\n                        <td id=\"T_f953f5e1_2368_11eb_a4bf_40a3ccb69620row0_col2\" class=\"data row0 col2\" >0.865000</td>\n            </tr>\n            <tr>\n                        <th id=\"T_f953f5e1_2368_11eb_a4bf_40a3ccb69620level0_row1\" class=\"row_heading level0 row1\" >1</th>\n                        <td id=\"T_f953f5e1_2368_11eb_a4bf_40a3ccb69620row1_col0\" class=\"data row1 col0\" >0.983125</td>\n                        <td id=\"T_f953f5e1_2368_11eb_a4bf_40a3ccb69620row1_col1\" class=\"data row1 col1\" >0.995000</td>\n                        <td id=\"T_f953f5e1_2368_11eb_a4bf_40a3ccb69620row1_col2\" class=\"data row1 col2\" >0.945000</td>\n            </tr>\n            <tr>\n                        <th id=\"T_f953f5e1_2368_11eb_a4bf_40a3ccb69620level0_row2\" class=\"row_heading level0 row2\" >2</th>\n                        <td id=\"T_f953f5e1_2368_11eb_a4bf_40a3ccb69620row2_col0\" class=\"data row2 col0\" >0.983750</td>\n                        <td id=\"T_f953f5e1_2368_11eb_a4bf_40a3ccb69620row2_col1\" class=\"data row2 col1\" >0.995000</td>\n                        <td id=\"T_f953f5e1_2368_11eb_a4bf_40a3ccb69620row2_col2\" class=\"data row2 col2\" >0.985000</td>\n            </tr>\n    </tbody></table>"
     },
     "execution_count": 85,
     "metadata": {},
     "output_type": "execute_result"
    }
   ],
   "source": [
    "df = pd.DataFrame(np.mat(test_result),columns=['train','valid','test'])\n",
    "df.style\n"
   ],
   "metadata": {
    "collapsed": false,
    "pycharm": {
     "name": "#%%\n"
    }
   }
  },
  {
   "cell_type": "markdown",
   "source": [
    "#### 3. 总结\n",
    "* 分类结果分数:\n",
    "$$SVM ,Logistic Regression> Naïve Bayesian $$\n",
    "* Logistic Regression的训练时间和精度取决于判定收敛停止循环的精度,精度越高分类准确率越高,相应训练时间也会增长\n",
    "*  在次项目设置精度下，Logistic Regression ,SVM训练分数接近, 准确率较高\n",
    "\n",
    "### 3. 分类时间\n",
    "#### 1. 柱状图"
   ],
   "metadata": {
    "collapsed": false,
    "pycharm": {
     "name": "#%% md\n"
    }
   }
  },
  {
   "cell_type": "code",
   "execution_count": 86,
   "outputs": [
    {
     "data": {
      "text/plain": "<Figure size 432x288 with 1 Axes>",
      "image/png": "[encoded data removed]"
     },
     "metadata": {
      "needs_background": "light"
     },
     "output_type": "display_data"
    }
   ],
   "source": [
    "name_list = ['train','valid','test']\n",
    "x =list(range(len(test_result[0])))\n",
    "total_width, n = 0.8, 3\n",
    "width = total_width / n\n",
    "plt.title(' Test Time ')\n",
    "plt.xlabel('Method')\n",
    "plt.ylabel('Time')\n",
    "plt.bar(x, test_time[0], width=width, label='Naïve Bayesian',fc = 'gold')\n",
    "for i in range(len(x)):\n",
    "    x[i] = x[i] + width\n",
    "plt.bar(x, test_time[1], width=width, label='Logistic Regression',tick_label = name_list,fc = 'salmon')\n",
    "for i in range(len(x)):\n",
    "    x[i] = x[i] + width\n",
    "plt.bar(x, test_time[2], width=width, label='SVM',tick_label = name_list,fc = 'skyblue')\n",
    "plt.legend()\n",
    "plt.show()"
   ],
   "metadata": {
    "collapsed": false,
    "pycharm": {
     "name": "#%%\n"
    }
   }
  },
  {
   "cell_type": "markdown",
   "source": [
    "#### 2. 表格\n",
    "第0行代表Naïve Bayesian,第1行代表Logistic Regression,第1行代表SVM"
   ],
   "metadata": {
    "collapsed": false
   }
  },
  {
   "cell_type": "code",
   "execution_count": 87,
   "outputs": [
    {
     "data": {
      "text/plain": "<pandas.io.formats.style.Styler at 0x4f11d18>",
      "text/html": "<style  type=\"text/css\" >\n</style><table id=\"T_f98c74a0_2368_11eb_928e_40a3ccb69620\" ><thead>    <tr>        <th class=\"blank level0\" ></th>        <th class=\"col_heading level0 col0\" >train</th>        <th class=\"col_heading level0 col1\" >valid</th>        <th class=\"col_heading level0 col2\" >test</th>    </tr></thead><tbody>\n                <tr>\n                        <th id=\"T_f98c74a0_2368_11eb_928e_40a3ccb69620level0_row0\" class=\"row_heading level0 row0\" >0</th>\n                        <td id=\"T_f98c74a0_2368_11eb_928e_40a3ccb69620row0_col0\" class=\"data row0 col0\" >0.168871</td>\n                        <td id=\"T_f98c74a0_2368_11eb_928e_40a3ccb69620row0_col1\" class=\"data row0 col1\" >0.010883</td>\n                        <td id=\"T_f98c74a0_2368_11eb_928e_40a3ccb69620row0_col2\" class=\"data row0 col2\" >0.012026</td>\n            </tr>\n            <tr>\n                        <th id=\"T_f98c74a0_2368_11eb_928e_40a3ccb69620level0_row1\" class=\"row_heading level0 row1\" >1</th>\n                        <td id=\"T_f98c74a0_2368_11eb_928e_40a3ccb69620row1_col0\" class=\"data row1 col0\" >0.055849</td>\n                        <td id=\"T_f98c74a0_2368_11eb_928e_40a3ccb69620row1_col1\" class=\"data row1 col1\" >0.008977</td>\n                        <td id=\"T_f98c74a0_2368_11eb_928e_40a3ccb69620row1_col2\" class=\"data row1 col2\" >0.007214</td>\n            </tr>\n            <tr>\n                        <th id=\"T_f98c74a0_2368_11eb_928e_40a3ccb69620level0_row2\" class=\"row_heading level0 row2\" >2</th>\n                        <td id=\"T_f98c74a0_2368_11eb_928e_40a3ccb69620row2_col0\" class=\"data row2 col0\" >0.022939</td>\n                        <td id=\"T_f98c74a0_2368_11eb_928e_40a3ccb69620row2_col1\" class=\"data row2 col1\" >0.004987</td>\n                        <td id=\"T_f98c74a0_2368_11eb_928e_40a3ccb69620row2_col2\" class=\"data row2 col2\" >0.003982</td>\n            </tr>\n    </tbody></table>"
     },
     "execution_count": 87,
     "metadata": {},
     "output_type": "execute_result"
    }
   ],
   "source": [
    "df = pd.DataFrame(np.mat(test_time),columns=['train','valid','test'])\n",
    "df.style\n"
   ],
   "metadata": {
    "collapsed": false,
    "pycharm": {
     "name": "#%%\n"
    }
   }
  },
  {
   "cell_type": "markdown",
   "source": [
    "#### 3. 总结\n",
    "* 分类时间:\n",
    "$$ Naïve Bayesian>Logistic Regression>SVM   $$\n",
    "\n",
    "*   Naïve Bayesian 远高于Logistic Regression和SVM"
   ],
   "metadata": {
    "collapsed": false
   }
  },
  {
   "cell_type": "markdown",
   "source": [
    "## 5.总结\n",
    "\n",
    "<table>\n",
    "    <tr>\n",
    "        <th colspan=1>特征</th>\n",
    "        <th>Naive Bayesian</th>\n",
    "        <th>Logistic Regression</th>\n",
    "        <th>SVM</th>\n",
    "    </tr>\n",
    "    <tr>\n",
    "        <td >训练时间</td>\n",
    "        <td>略长于SVM\n",
    "        </td>\n",
    "        <td>最长<br/>训练时间和准确率受收敛停止时的精度影响</td>\n",
    "        <td>最短</td>\n",
    "    </tr>\n",
    "    <tr>\n",
    "        <td >准确率</td>\n",
    "        <td>最低<br/>假设属性之间相互独立,实际应用中往往是不成立</td>\n",
    "        <td>和SVM相近</td>\n",
    "        <td>和Logistic Regression相近</td>\n",
    "    </tr>\n",
    "    <tr>\n",
    "        <td>分类时间</td>\n",
    "        <td>最长</td>\n",
    "        <td>略高于SVM</td>\n",
    "        <td>最短</td>\n",
    "    </tr>\n",
    "\n",
    "</table>\n",
    "\n",
    "\n",
    "### 1. Naive Bayesian\n",
    "* 优点\n",
    "    * 算法逻辑简单,易于实现\n",
    "    * 分类过程中时空开销小,假设特征相互独立,只会涉及到二维存储\n",
    "* 缺点\n",
    "    * 朴素贝叶斯假设属性之间相互独立，这种假设在实际过程中往往是不成立的,导致准确率降低\n",
    "    * 在属性之间相关性越大，分类误差也就越大\n",
    "    * 分类时间较长\n",
    "\n",
    "### 2. Logistic Regression\n",
    "* 优点\n",
    "    * 算法逻辑简单,易于实现\n",
    "    * 存储资源低\n",
    "* 缺点\n",
    "    * 当特征空间很大时，逻辑回归的性能不是很好\n",
    "    * 不能很好地处理大量多类特征或变量\n",
    "    * 只能处理两分类问题\n",
    "    * 训练时间较长\n",
    "\n",
    "### 3. SVM\n",
    "* 优点\n",
    "    * 分类效果好\n",
    "* 缺点\n",
    "    * 对大规模训练样本难以实施\n",
    "    * 经典的支持向量机算法只给出了二类分类的算法\n",
    "\n",
    "### 4.朴素贝叶斯与逻辑回归的区别\n",
    "<table>\n",
    "    <tr>\n",
    "        <th>Naive Bayesian</th>\n",
    "        <th>Logistic Regression</th>\n",
    "    </tr>\n",
    "    <tr>\n",
    "        <td >生成模型</td>\n",
    "        <td>判别模型</td>\n",
    "    </tr>\n",
    "    <tr>\n",
    "        <td >对特征x和目标y的联合分布P(x,y)建模，使用极大后验概率估计法估计出最有可能的P(y|x)</td>\n",
    "        <td>直接对后验概率P(y|x)建模，使用极大似然估计法使其最大化</td>\n",
    "    </tr>\n",
    "    <tr>\n",
    "        <td>不需要优化参数，先用极大似然估计法估计出先验概率P(y)和条件概率P(x|y)，然后计算出极大后验概率P(y|x)</td>\n",
    "        <td>需要优化参数，先用极大似然估计法得出损失函数，再用梯度下降法等优化参数</td>\n",
    "    </tr>\n",
    "    <tr>\n",
    "        <td>假设特征之间相互独立，对于不相互独立的特征，朴素贝叶斯的分类效果会差一些</td>\n",
    "        <td>不必假设特征之间是相互独立的，对于不相互独立的特征，逻辑回归会在训练过程中对参数自动调整</td>\n",
    "    </tr>\n",
    "\n",
    "</table>\n",
    "\n"
   ],
   "metadata": {
    "collapsed": false
   }
  }
 ],
 "metadata": {
  "kernelspec": {
   "display_name": "Python 3",
   "language": "python",
   "name": "python3"
  },
  "language_info": {
   "codemirror_mode": {
    "name": "ipython",
    "version": 2
   },
   "file_extension": ".py",
   "mimetype": "text/x-python",
   "name": "python",
   "nbconvert_exporter": "python",
   "pygments_lexer": "ipython2",
   "version": "2.7.6"
  }
 },
 "nbformat": 4,
 "nbformat_minor": 0
}